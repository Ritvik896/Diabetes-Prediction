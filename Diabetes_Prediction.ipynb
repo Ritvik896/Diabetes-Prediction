{
  "nbformat": 4,
  "nbformat_minor": 0,
  "metadata": {
    "colab": {
      "provenance": [],
      "authorship_tag": "ABX9TyPczC4fKAIO9/DBHywnK1Yc",
      "include_colab_link": true
    },
    "kernelspec": {
      "name": "python3",
      "display_name": "Python 3"
    },
    "language_info": {
      "name": "python"
    }
  },
  "cells": [
    {
      "cell_type": "markdown",
      "metadata": {
        "id": "view-in-github",
        "colab_type": "text"
      },
      "source": [
        "<a href=\"https://colab.research.google.com/github/Ritvik896/Diabetes-Prediction/blob/main/Diabetes_Prediction.ipynb\" target=\"_parent\"><img src=\"https://colab.research.google.com/assets/colab-badge.svg\" alt=\"Open In Colab\"/></a>"
      ]
    },
    {
      "cell_type": "markdown",
      "source": [
        "Support Vector Machine\n",
        "\n",
        "![Support Vector Machine.jpg](data:image/jpeg;base64,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)\n",
        "\n",
        "\n",
        "We train the model with various features like blood gluecose level\n",
        "\n",
        "Hyperplane is used to seperate data\n",
        "\n",
        "1)Diabetes Data\n",
        "\n",
        "2)Data Pre Processing\n",
        "\n",
        "3)Train Test Split\n",
        "\n",
        "4)Support Vector Machine CLassifier"
      ],
      "metadata": {
        "id": "HGwpd-5TEHWv"
      }
    },
    {
      "cell_type": "code",
      "execution_count": 1,
      "metadata": {
        "id": "Z53YXS7pD4RS"
      },
      "outputs": [],
      "source": [
        "import numpy as np\n",
        "import pandas as pd\n",
        "from sklearn.preprocessing import StandardScaler\n",
        "from sklearn.model_selection import train_test_split\n",
        "from sklearn import svm\n",
        "# svm - support vector machine\n",
        "from sklearn.metrics import accuracy_score\n",
        "\n"
      ]
    },
    {
      "cell_type": "markdown",
      "source": [
        "Data Collection and Ananlysis\n",
        "\n",
        "PIMA Diabetes Dataset"
      ],
      "metadata": {
        "id": "-_3NZmQTGMHA"
      }
    },
    {
      "cell_type": "code",
      "source": [
        "diabetes_dataset = pd.read_csv('/content/diabetes.csv')"
      ],
      "metadata": {
        "id": "Rv4vunxBGLhf"
      },
      "execution_count": 2,
      "outputs": []
    },
    {
      "cell_type": "code",
      "source": [
        "diabetes_dataset.head()"
      ],
      "metadata": {
        "colab": {
          "base_uri": "https://localhost:8080/",
          "height": 206
        },
        "id": "6O9ZOr2MGpTV",
        "outputId": "1c8f7809-536b-4323-8678-7a022fd43e03"
      },
      "execution_count": 3,
      "outputs": [
        {
          "output_type": "execute_result",
          "data": {
            "text/plain": [
              "   Pregnancies  Glucose  BloodPressure  SkinThickness  Insulin   BMI  \\\n",
              "0            6      148             72             35        0  33.6   \n",
              "1            1       85             66             29        0  26.6   \n",
              "2            8      183             64              0        0  23.3   \n",
              "3            1       89             66             23       94  28.1   \n",
              "4            0      137             40             35      168  43.1   \n",
              "\n",
              "   DiabetesPedigreeFunction  Age  Outcome  \n",
              "0                     0.627   50        1  \n",
              "1                     0.351   31        0  \n",
              "2                     0.672   32        1  \n",
              "3                     0.167   21        0  \n",
              "4                     2.288   33        1  "
            ],
            "text/html": [
              "\n",
              "  <div id=\"df-f3baa94a-da35-45de-b178-70d9084169fa\">\n",
              "    <div class=\"colab-df-container\">\n",
              "      <div>\n",
              "<style scoped>\n",
              "    .dataframe tbody tr th:only-of-type {\n",
              "        vertical-align: middle;\n",
              "    }\n",
              "\n",
              "    .dataframe tbody tr th {\n",
              "        vertical-align: top;\n",
              "    }\n",
              "\n",
              "    .dataframe thead th {\n",
              "        text-align: right;\n",
              "    }\n",
              "</style>\n",
              "<table border=\"1\" class=\"dataframe\">\n",
              "  <thead>\n",
              "    <tr style=\"text-align: right;\">\n",
              "      <th></th>\n",
              "      <th>Pregnancies</th>\n",
              "      <th>Glucose</th>\n",
              "      <th>BloodPressure</th>\n",
              "      <th>SkinThickness</th>\n",
              "      <th>Insulin</th>\n",
              "      <th>BMI</th>\n",
              "      <th>DiabetesPedigreeFunction</th>\n",
              "      <th>Age</th>\n",
              "      <th>Outcome</th>\n",
              "    </tr>\n",
              "  </thead>\n",
              "  <tbody>\n",
              "    <tr>\n",
              "      <th>0</th>\n",
              "      <td>6</td>\n",
              "      <td>148</td>\n",
              "      <td>72</td>\n",
              "      <td>35</td>\n",
              "      <td>0</td>\n",
              "      <td>33.6</td>\n",
              "      <td>0.627</td>\n",
              "      <td>50</td>\n",
              "      <td>1</td>\n",
              "    </tr>\n",
              "    <tr>\n",
              "      <th>1</th>\n",
              "      <td>1</td>\n",
              "      <td>85</td>\n",
              "      <td>66</td>\n",
              "      <td>29</td>\n",
              "      <td>0</td>\n",
              "      <td>26.6</td>\n",
              "      <td>0.351</td>\n",
              "      <td>31</td>\n",
              "      <td>0</td>\n",
              "    </tr>\n",
              "    <tr>\n",
              "      <th>2</th>\n",
              "      <td>8</td>\n",
              "      <td>183</td>\n",
              "      <td>64</td>\n",
              "      <td>0</td>\n",
              "      <td>0</td>\n",
              "      <td>23.3</td>\n",
              "      <td>0.672</td>\n",
              "      <td>32</td>\n",
              "      <td>1</td>\n",
              "    </tr>\n",
              "    <tr>\n",
              "      <th>3</th>\n",
              "      <td>1</td>\n",
              "      <td>89</td>\n",
              "      <td>66</td>\n",
              "      <td>23</td>\n",
              "      <td>94</td>\n",
              "      <td>28.1</td>\n",
              "      <td>0.167</td>\n",
              "      <td>21</td>\n",
              "      <td>0</td>\n",
              "    </tr>\n",
              "    <tr>\n",
              "      <th>4</th>\n",
              "      <td>0</td>\n",
              "      <td>137</td>\n",
              "      <td>40</td>\n",
              "      <td>35</td>\n",
              "      <td>168</td>\n",
              "      <td>43.1</td>\n",
              "      <td>2.288</td>\n",
              "      <td>33</td>\n",
              "      <td>1</td>\n",
              "    </tr>\n",
              "  </tbody>\n",
              "</table>\n",
              "</div>\n",
              "      <button class=\"colab-df-convert\" onclick=\"convertToInteractive('df-f3baa94a-da35-45de-b178-70d9084169fa')\"\n",
              "              title=\"Convert this dataframe to an interactive table.\"\n",
              "              style=\"display:none;\">\n",
              "        \n",
              "  <svg xmlns=\"http://www.w3.org/2000/svg\" height=\"24px\"viewBox=\"0 0 24 24\"\n",
              "       width=\"24px\">\n",
              "    <path d=\"M0 0h24v24H0V0z\" fill=\"none\"/>\n",
              "    <path d=\"M18.56 5.44l.94 2.06.94-2.06 2.06-.94-2.06-.94-.94-2.06-.94 2.06-2.06.94zm-11 1L8.5 8.5l.94-2.06 2.06-.94-2.06-.94L8.5 2.5l-.94 2.06-2.06.94zm10 10l.94 2.06.94-2.06 2.06-.94-2.06-.94-.94-2.06-.94 2.06-2.06.94z\"/><path d=\"M17.41 7.96l-1.37-1.37c-.4-.4-.92-.59-1.43-.59-.52 0-1.04.2-1.43.59L10.3 9.45l-7.72 7.72c-.78.78-.78 2.05 0 2.83L4 21.41c.39.39.9.59 1.41.59.51 0 1.02-.2 1.41-.59l7.78-7.78 2.81-2.81c.8-.78.8-2.07 0-2.86zM5.41 20L4 18.59l7.72-7.72 1.47 1.35L5.41 20z\"/>\n",
              "  </svg>\n",
              "      </button>\n",
              "      \n",
              "  <style>\n",
              "    .colab-df-container {\n",
              "      display:flex;\n",
              "      flex-wrap:wrap;\n",
              "      gap: 12px;\n",
              "    }\n",
              "\n",
              "    .colab-df-convert {\n",
              "      background-color: #E8F0FE;\n",
              "      border: none;\n",
              "      border-radius: 50%;\n",
              "      cursor: pointer;\n",
              "      display: none;\n",
              "      fill: #1967D2;\n",
              "      height: 32px;\n",
              "      padding: 0 0 0 0;\n",
              "      width: 32px;\n",
              "    }\n",
              "\n",
              "    .colab-df-convert:hover {\n",
              "      background-color: #E2EBFA;\n",
              "      box-shadow: 0px 1px 2px rgba(60, 64, 67, 0.3), 0px 1px 3px 1px rgba(60, 64, 67, 0.15);\n",
              "      fill: #174EA6;\n",
              "    }\n",
              "\n",
              "    [theme=dark] .colab-df-convert {\n",
              "      background-color: #3B4455;\n",
              "      fill: #D2E3FC;\n",
              "    }\n",
              "\n",
              "    [theme=dark] .colab-df-convert:hover {\n",
              "      background-color: #434B5C;\n",
              "      box-shadow: 0px 1px 3px 1px rgba(0, 0, 0, 0.15);\n",
              "      filter: drop-shadow(0px 1px 2px rgba(0, 0, 0, 0.3));\n",
              "      fill: #FFFFFF;\n",
              "    }\n",
              "  </style>\n",
              "\n",
              "      <script>\n",
              "        const buttonEl =\n",
              "          document.querySelector('#df-f3baa94a-da35-45de-b178-70d9084169fa button.colab-df-convert');\n",
              "        buttonEl.style.display =\n",
              "          google.colab.kernel.accessAllowed ? 'block' : 'none';\n",
              "\n",
              "        async function convertToInteractive(key) {\n",
              "          const element = document.querySelector('#df-f3baa94a-da35-45de-b178-70d9084169fa');\n",
              "          const dataTable =\n",
              "            await google.colab.kernel.invokeFunction('convertToInteractive',\n",
              "                                                     [key], {});\n",
              "          if (!dataTable) return;\n",
              "\n",
              "          const docLinkHtml = 'Like what you see? Visit the ' +\n",
              "            '<a target=\"_blank\" href=https://colab.research.google.com/notebooks/data_table.ipynb>data table notebook</a>'\n",
              "            + ' to learn more about interactive tables.';\n",
              "          element.innerHTML = '';\n",
              "          dataTable['output_type'] = 'display_data';\n",
              "          await google.colab.output.renderOutput(dataTable, element);\n",
              "          const docLink = document.createElement('div');\n",
              "          docLink.innerHTML = docLinkHtml;\n",
              "          element.appendChild(docLink);\n",
              "        }\n",
              "      </script>\n",
              "    </div>\n",
              "  </div>\n",
              "  "
            ]
          },
          "metadata": {},
          "execution_count": 3
        }
      ]
    },
    {
      "cell_type": "markdown",
      "source": [
        "1 : Diabetic\n",
        "\n",
        "0 : Non Diabetic"
      ],
      "metadata": {
        "id": "StpVC4sOH3nf"
      }
    },
    {
      "cell_type": "code",
      "source": [
        "diabetes_dataset.shape"
      ],
      "metadata": {
        "colab": {
          "base_uri": "https://localhost:8080/"
        },
        "id": "-jj7wiJ0GsTK",
        "outputId": "6db4d47c-9917-4f74-fceb-cc883700e612"
      },
      "execution_count": 4,
      "outputs": [
        {
          "output_type": "execute_result",
          "data": {
            "text/plain": [
              "(768, 9)"
            ]
          },
          "metadata": {},
          "execution_count": 4
        }
      ]
    },
    {
      "cell_type": "code",
      "source": [
        "diabetes_dataset.describe()"
      ],
      "metadata": {
        "colab": {
          "base_uri": "https://localhost:8080/",
          "height": 300
        },
        "id": "fwSqhd9bIFdn",
        "outputId": "9124c6f5-276b-451e-f734-5a6d09537ac5"
      },
      "execution_count": 5,
      "outputs": [
        {
          "output_type": "execute_result",
          "data": {
            "text/plain": [
              "       Pregnancies     Glucose  BloodPressure  SkinThickness     Insulin  \\\n",
              "count   768.000000  768.000000     768.000000     768.000000  768.000000   \n",
              "mean      3.845052  120.894531      69.105469      20.536458   79.799479   \n",
              "std       3.369578   31.972618      19.355807      15.952218  115.244002   \n",
              "min       0.000000    0.000000       0.000000       0.000000    0.000000   \n",
              "25%       1.000000   99.000000      62.000000       0.000000    0.000000   \n",
              "50%       3.000000  117.000000      72.000000      23.000000   30.500000   \n",
              "75%       6.000000  140.250000      80.000000      32.000000  127.250000   \n",
              "max      17.000000  199.000000     122.000000      99.000000  846.000000   \n",
              "\n",
              "              BMI  DiabetesPedigreeFunction         Age     Outcome  \n",
              "count  768.000000                768.000000  768.000000  768.000000  \n",
              "mean    31.992578                  0.471876   33.240885    0.348958  \n",
              "std      7.884160                  0.331329   11.760232    0.476951  \n",
              "min      0.000000                  0.078000   21.000000    0.000000  \n",
              "25%     27.300000                  0.243750   24.000000    0.000000  \n",
              "50%     32.000000                  0.372500   29.000000    0.000000  \n",
              "75%     36.600000                  0.626250   41.000000    1.000000  \n",
              "max     67.100000                  2.420000   81.000000    1.000000  "
            ],
            "text/html": [
              "\n",
              "  <div id=\"df-73a01b9f-02ec-4cf5-9fb6-0c65d21e38c9\">\n",
              "    <div class=\"colab-df-container\">\n",
              "      <div>\n",
              "<style scoped>\n",
              "    .dataframe tbody tr th:only-of-type {\n",
              "        vertical-align: middle;\n",
              "    }\n",
              "\n",
              "    .dataframe tbody tr th {\n",
              "        vertical-align: top;\n",
              "    }\n",
              "\n",
              "    .dataframe thead th {\n",
              "        text-align: right;\n",
              "    }\n",
              "</style>\n",
              "<table border=\"1\" class=\"dataframe\">\n",
              "  <thead>\n",
              "    <tr style=\"text-align: right;\">\n",
              "      <th></th>\n",
              "      <th>Pregnancies</th>\n",
              "      <th>Glucose</th>\n",
              "      <th>BloodPressure</th>\n",
              "      <th>SkinThickness</th>\n",
              "      <th>Insulin</th>\n",
              "      <th>BMI</th>\n",
              "      <th>DiabetesPedigreeFunction</th>\n",
              "      <th>Age</th>\n",
              "      <th>Outcome</th>\n",
              "    </tr>\n",
              "  </thead>\n",
              "  <tbody>\n",
              "    <tr>\n",
              "      <th>count</th>\n",
              "      <td>768.000000</td>\n",
              "      <td>768.000000</td>\n",
              "      <td>768.000000</td>\n",
              "      <td>768.000000</td>\n",
              "      <td>768.000000</td>\n",
              "      <td>768.000000</td>\n",
              "      <td>768.000000</td>\n",
              "      <td>768.000000</td>\n",
              "      <td>768.000000</td>\n",
              "    </tr>\n",
              "    <tr>\n",
              "      <th>mean</th>\n",
              "      <td>3.845052</td>\n",
              "      <td>120.894531</td>\n",
              "      <td>69.105469</td>\n",
              "      <td>20.536458</td>\n",
              "      <td>79.799479</td>\n",
              "      <td>31.992578</td>\n",
              "      <td>0.471876</td>\n",
              "      <td>33.240885</td>\n",
              "      <td>0.348958</td>\n",
              "    </tr>\n",
              "    <tr>\n",
              "      <th>std</th>\n",
              "      <td>3.369578</td>\n",
              "      <td>31.972618</td>\n",
              "      <td>19.355807</td>\n",
              "      <td>15.952218</td>\n",
              "      <td>115.244002</td>\n",
              "      <td>7.884160</td>\n",
              "      <td>0.331329</td>\n",
              "      <td>11.760232</td>\n",
              "      <td>0.476951</td>\n",
              "    </tr>\n",
              "    <tr>\n",
              "      <th>min</th>\n",
              "      <td>0.000000</td>\n",
              "      <td>0.000000</td>\n",
              "      <td>0.000000</td>\n",
              "      <td>0.000000</td>\n",
              "      <td>0.000000</td>\n",
              "      <td>0.000000</td>\n",
              "      <td>0.078000</td>\n",
              "      <td>21.000000</td>\n",
              "      <td>0.000000</td>\n",
              "    </tr>\n",
              "    <tr>\n",
              "      <th>25%</th>\n",
              "      <td>1.000000</td>\n",
              "      <td>99.000000</td>\n",
              "      <td>62.000000</td>\n",
              "      <td>0.000000</td>\n",
              "      <td>0.000000</td>\n",
              "      <td>27.300000</td>\n",
              "      <td>0.243750</td>\n",
              "      <td>24.000000</td>\n",
              "      <td>0.000000</td>\n",
              "    </tr>\n",
              "    <tr>\n",
              "      <th>50%</th>\n",
              "      <td>3.000000</td>\n",
              "      <td>117.000000</td>\n",
              "      <td>72.000000</td>\n",
              "      <td>23.000000</td>\n",
              "      <td>30.500000</td>\n",
              "      <td>32.000000</td>\n",
              "      <td>0.372500</td>\n",
              "      <td>29.000000</td>\n",
              "      <td>0.000000</td>\n",
              "    </tr>\n",
              "    <tr>\n",
              "      <th>75%</th>\n",
              "      <td>6.000000</td>\n",
              "      <td>140.250000</td>\n",
              "      <td>80.000000</td>\n",
              "      <td>32.000000</td>\n",
              "      <td>127.250000</td>\n",
              "      <td>36.600000</td>\n",
              "      <td>0.626250</td>\n",
              "      <td>41.000000</td>\n",
              "      <td>1.000000</td>\n",
              "    </tr>\n",
              "    <tr>\n",
              "      <th>max</th>\n",
              "      <td>17.000000</td>\n",
              "      <td>199.000000</td>\n",
              "      <td>122.000000</td>\n",
              "      <td>99.000000</td>\n",
              "      <td>846.000000</td>\n",
              "      <td>67.100000</td>\n",
              "      <td>2.420000</td>\n",
              "      <td>81.000000</td>\n",
              "      <td>1.000000</td>\n",
              "    </tr>\n",
              "  </tbody>\n",
              "</table>\n",
              "</div>\n",
              "      <button class=\"colab-df-convert\" onclick=\"convertToInteractive('df-73a01b9f-02ec-4cf5-9fb6-0c65d21e38c9')\"\n",
              "              title=\"Convert this dataframe to an interactive table.\"\n",
              "              style=\"display:none;\">\n",
              "        \n",
              "  <svg xmlns=\"http://www.w3.org/2000/svg\" height=\"24px\"viewBox=\"0 0 24 24\"\n",
              "       width=\"24px\">\n",
              "    <path d=\"M0 0h24v24H0V0z\" fill=\"none\"/>\n",
              "    <path d=\"M18.56 5.44l.94 2.06.94-2.06 2.06-.94-2.06-.94-.94-2.06-.94 2.06-2.06.94zm-11 1L8.5 8.5l.94-2.06 2.06-.94-2.06-.94L8.5 2.5l-.94 2.06-2.06.94zm10 10l.94 2.06.94-2.06 2.06-.94-2.06-.94-.94-2.06-.94 2.06-2.06.94z\"/><path d=\"M17.41 7.96l-1.37-1.37c-.4-.4-.92-.59-1.43-.59-.52 0-1.04.2-1.43.59L10.3 9.45l-7.72 7.72c-.78.78-.78 2.05 0 2.83L4 21.41c.39.39.9.59 1.41.59.51 0 1.02-.2 1.41-.59l7.78-7.78 2.81-2.81c.8-.78.8-2.07 0-2.86zM5.41 20L4 18.59l7.72-7.72 1.47 1.35L5.41 20z\"/>\n",
              "  </svg>\n",
              "      </button>\n",
              "      \n",
              "  <style>\n",
              "    .colab-df-container {\n",
              "      display:flex;\n",
              "      flex-wrap:wrap;\n",
              "      gap: 12px;\n",
              "    }\n",
              "\n",
              "    .colab-df-convert {\n",
              "      background-color: #E8F0FE;\n",
              "      border: none;\n",
              "      border-radius: 50%;\n",
              "      cursor: pointer;\n",
              "      display: none;\n",
              "      fill: #1967D2;\n",
              "      height: 32px;\n",
              "      padding: 0 0 0 0;\n",
              "      width: 32px;\n",
              "    }\n",
              "\n",
              "    .colab-df-convert:hover {\n",
              "      background-color: #E2EBFA;\n",
              "      box-shadow: 0px 1px 2px rgba(60, 64, 67, 0.3), 0px 1px 3px 1px rgba(60, 64, 67, 0.15);\n",
              "      fill: #174EA6;\n",
              "    }\n",
              "\n",
              "    [theme=dark] .colab-df-convert {\n",
              "      background-color: #3B4455;\n",
              "      fill: #D2E3FC;\n",
              "    }\n",
              "\n",
              "    [theme=dark] .colab-df-convert:hover {\n",
              "      background-color: #434B5C;\n",
              "      box-shadow: 0px 1px 3px 1px rgba(0, 0, 0, 0.15);\n",
              "      filter: drop-shadow(0px 1px 2px rgba(0, 0, 0, 0.3));\n",
              "      fill: #FFFFFF;\n",
              "    }\n",
              "  </style>\n",
              "\n",
              "      <script>\n",
              "        const buttonEl =\n",
              "          document.querySelector('#df-73a01b9f-02ec-4cf5-9fb6-0c65d21e38c9 button.colab-df-convert');\n",
              "        buttonEl.style.display =\n",
              "          google.colab.kernel.accessAllowed ? 'block' : 'none';\n",
              "\n",
              "        async function convertToInteractive(key) {\n",
              "          const element = document.querySelector('#df-73a01b9f-02ec-4cf5-9fb6-0c65d21e38c9');\n",
              "          const dataTable =\n",
              "            await google.colab.kernel.invokeFunction('convertToInteractive',\n",
              "                                                     [key], {});\n",
              "          if (!dataTable) return;\n",
              "\n",
              "          const docLinkHtml = 'Like what you see? Visit the ' +\n",
              "            '<a target=\"_blank\" href=https://colab.research.google.com/notebooks/data_table.ipynb>data table notebook</a>'\n",
              "            + ' to learn more about interactive tables.';\n",
              "          element.innerHTML = '';\n",
              "          dataTable['output_type'] = 'display_data';\n",
              "          await google.colab.output.renderOutput(dataTable, element);\n",
              "          const docLink = document.createElement('div');\n",
              "          docLink.innerHTML = docLinkHtml;\n",
              "          element.appendChild(docLink);\n",
              "        }\n",
              "      </script>\n",
              "    </div>\n",
              "  </div>\n",
              "  "
            ]
          },
          "metadata": {},
          "execution_count": 5
        }
      ]
    },
    {
      "cell_type": "code",
      "source": [
        "diabetes_dataset['Outcome'].value_counts()"
      ],
      "metadata": {
        "colab": {
          "base_uri": "https://localhost:8080/"
        },
        "id": "ZKtY7c-UIPDQ",
        "outputId": "20a4c0e4-41bc-420e-978e-2cd27633a075"
      },
      "execution_count": 6,
      "outputs": [
        {
          "output_type": "execute_result",
          "data": {
            "text/plain": [
              "0    500\n",
              "1    268\n",
              "Name: Outcome, dtype: int64"
            ]
          },
          "metadata": {},
          "execution_count": 6
        }
      ]
    },
    {
      "cell_type": "code",
      "source": [
        "diabetes_dataset.groupby('Outcome').mean()"
      ],
      "metadata": {
        "colab": {
          "base_uri": "https://localhost:8080/",
          "height": 143
        },
        "id": "ad6o9q7yLwdD",
        "outputId": "5f7fd5c6-d945-4641-dfe8-687cdde56f52"
      },
      "execution_count": 7,
      "outputs": [
        {
          "output_type": "execute_result",
          "data": {
            "text/plain": [
              "         Pregnancies     Glucose  BloodPressure  SkinThickness     Insulin  \\\n",
              "Outcome                                                                      \n",
              "0           3.298000  109.980000      68.184000      19.664000   68.792000   \n",
              "1           4.865672  141.257463      70.824627      22.164179  100.335821   \n",
              "\n",
              "               BMI  DiabetesPedigreeFunction        Age  \n",
              "Outcome                                                  \n",
              "0        30.304200                  0.429734  31.190000  \n",
              "1        35.142537                  0.550500  37.067164  "
            ],
            "text/html": [
              "\n",
              "  <div id=\"df-28444e21-06a7-4fc5-85d2-4b2ee991afbd\">\n",
              "    <div class=\"colab-df-container\">\n",
              "      <div>\n",
              "<style scoped>\n",
              "    .dataframe tbody tr th:only-of-type {\n",
              "        vertical-align: middle;\n",
              "    }\n",
              "\n",
              "    .dataframe tbody tr th {\n",
              "        vertical-align: top;\n",
              "    }\n",
              "\n",
              "    .dataframe thead th {\n",
              "        text-align: right;\n",
              "    }\n",
              "</style>\n",
              "<table border=\"1\" class=\"dataframe\">\n",
              "  <thead>\n",
              "    <tr style=\"text-align: right;\">\n",
              "      <th></th>\n",
              "      <th>Pregnancies</th>\n",
              "      <th>Glucose</th>\n",
              "      <th>BloodPressure</th>\n",
              "      <th>SkinThickness</th>\n",
              "      <th>Insulin</th>\n",
              "      <th>BMI</th>\n",
              "      <th>DiabetesPedigreeFunction</th>\n",
              "      <th>Age</th>\n",
              "    </tr>\n",
              "    <tr>\n",
              "      <th>Outcome</th>\n",
              "      <th></th>\n",
              "      <th></th>\n",
              "      <th></th>\n",
              "      <th></th>\n",
              "      <th></th>\n",
              "      <th></th>\n",
              "      <th></th>\n",
              "      <th></th>\n",
              "    </tr>\n",
              "  </thead>\n",
              "  <tbody>\n",
              "    <tr>\n",
              "      <th>0</th>\n",
              "      <td>3.298000</td>\n",
              "      <td>109.980000</td>\n",
              "      <td>68.184000</td>\n",
              "      <td>19.664000</td>\n",
              "      <td>68.792000</td>\n",
              "      <td>30.304200</td>\n",
              "      <td>0.429734</td>\n",
              "      <td>31.190000</td>\n",
              "    </tr>\n",
              "    <tr>\n",
              "      <th>1</th>\n",
              "      <td>4.865672</td>\n",
              "      <td>141.257463</td>\n",
              "      <td>70.824627</td>\n",
              "      <td>22.164179</td>\n",
              "      <td>100.335821</td>\n",
              "      <td>35.142537</td>\n",
              "      <td>0.550500</td>\n",
              "      <td>37.067164</td>\n",
              "    </tr>\n",
              "  </tbody>\n",
              "</table>\n",
              "</div>\n",
              "      <button class=\"colab-df-convert\" onclick=\"convertToInteractive('df-28444e21-06a7-4fc5-85d2-4b2ee991afbd')\"\n",
              "              title=\"Convert this dataframe to an interactive table.\"\n",
              "              style=\"display:none;\">\n",
              "        \n",
              "  <svg xmlns=\"http://www.w3.org/2000/svg\" height=\"24px\"viewBox=\"0 0 24 24\"\n",
              "       width=\"24px\">\n",
              "    <path d=\"M0 0h24v24H0V0z\" fill=\"none\"/>\n",
              "    <path d=\"M18.56 5.44l.94 2.06.94-2.06 2.06-.94-2.06-.94-.94-2.06-.94 2.06-2.06.94zm-11 1L8.5 8.5l.94-2.06 2.06-.94-2.06-.94L8.5 2.5l-.94 2.06-2.06.94zm10 10l.94 2.06.94-2.06 2.06-.94-2.06-.94-.94-2.06-.94 2.06-2.06.94z\"/><path d=\"M17.41 7.96l-1.37-1.37c-.4-.4-.92-.59-1.43-.59-.52 0-1.04.2-1.43.59L10.3 9.45l-7.72 7.72c-.78.78-.78 2.05 0 2.83L4 21.41c.39.39.9.59 1.41.59.51 0 1.02-.2 1.41-.59l7.78-7.78 2.81-2.81c.8-.78.8-2.07 0-2.86zM5.41 20L4 18.59l7.72-7.72 1.47 1.35L5.41 20z\"/>\n",
              "  </svg>\n",
              "      </button>\n",
              "      \n",
              "  <style>\n",
              "    .colab-df-container {\n",
              "      display:flex;\n",
              "      flex-wrap:wrap;\n",
              "      gap: 12px;\n",
              "    }\n",
              "\n",
              "    .colab-df-convert {\n",
              "      background-color: #E8F0FE;\n",
              "      border: none;\n",
              "      border-radius: 50%;\n",
              "      cursor: pointer;\n",
              "      display: none;\n",
              "      fill: #1967D2;\n",
              "      height: 32px;\n",
              "      padding: 0 0 0 0;\n",
              "      width: 32px;\n",
              "    }\n",
              "\n",
              "    .colab-df-convert:hover {\n",
              "      background-color: #E2EBFA;\n",
              "      box-shadow: 0px 1px 2px rgba(60, 64, 67, 0.3), 0px 1px 3px 1px rgba(60, 64, 67, 0.15);\n",
              "      fill: #174EA6;\n",
              "    }\n",
              "\n",
              "    [theme=dark] .colab-df-convert {\n",
              "      background-color: #3B4455;\n",
              "      fill: #D2E3FC;\n",
              "    }\n",
              "\n",
              "    [theme=dark] .colab-df-convert:hover {\n",
              "      background-color: #434B5C;\n",
              "      box-shadow: 0px 1px 3px 1px rgba(0, 0, 0, 0.15);\n",
              "      filter: drop-shadow(0px 1px 2px rgba(0, 0, 0, 0.3));\n",
              "      fill: #FFFFFF;\n",
              "    }\n",
              "  </style>\n",
              "\n",
              "      <script>\n",
              "        const buttonEl =\n",
              "          document.querySelector('#df-28444e21-06a7-4fc5-85d2-4b2ee991afbd button.colab-df-convert');\n",
              "        buttonEl.style.display =\n",
              "          google.colab.kernel.accessAllowed ? 'block' : 'none';\n",
              "\n",
              "        async function convertToInteractive(key) {\n",
              "          const element = document.querySelector('#df-28444e21-06a7-4fc5-85d2-4b2ee991afbd');\n",
              "          const dataTable =\n",
              "            await google.colab.kernel.invokeFunction('convertToInteractive',\n",
              "                                                     [key], {});\n",
              "          if (!dataTable) return;\n",
              "\n",
              "          const docLinkHtml = 'Like what you see? Visit the ' +\n",
              "            '<a target=\"_blank\" href=https://colab.research.google.com/notebooks/data_table.ipynb>data table notebook</a>'\n",
              "            + ' to learn more about interactive tables.';\n",
              "          element.innerHTML = '';\n",
              "          dataTable['output_type'] = 'display_data';\n",
              "          await google.colab.output.renderOutput(dataTable, element);\n",
              "          const docLink = document.createElement('div');\n",
              "          docLink.innerHTML = docLinkHtml;\n",
              "          element.appendChild(docLink);\n",
              "        }\n",
              "      </script>\n",
              "    </div>\n",
              "  </div>\n",
              "  "
            ]
          },
          "metadata": {},
          "execution_count": 7
        }
      ]
    },
    {
      "cell_type": "code",
      "source": [
        "# seperating the data and labels\n",
        "X = diabetes_dataset.drop(columns='Outcome', axis=1)\n",
        "Y = diabetes_dataset['Outcome']"
      ],
      "metadata": {
        "id": "iSu_dFWNMEE5"
      },
      "execution_count": 8,
      "outputs": []
    },
    {
      "cell_type": "code",
      "source": [
        "print(X)\n",
        "print(Y)"
      ],
      "metadata": {
        "colab": {
          "base_uri": "https://localhost:8080/"
        },
        "id": "TuTaBTmIMv-h",
        "outputId": "f06dc07a-a2fd-4b69-ccd8-6d6647f8e0ab"
      },
      "execution_count": 9,
      "outputs": [
        {
          "output_type": "stream",
          "name": "stdout",
          "text": [
            "     Pregnancies  Glucose  BloodPressure  SkinThickness  Insulin   BMI  \\\n",
            "0              6      148             72             35        0  33.6   \n",
            "1              1       85             66             29        0  26.6   \n",
            "2              8      183             64              0        0  23.3   \n",
            "3              1       89             66             23       94  28.1   \n",
            "4              0      137             40             35      168  43.1   \n",
            "..           ...      ...            ...            ...      ...   ...   \n",
            "763           10      101             76             48      180  32.9   \n",
            "764            2      122             70             27        0  36.8   \n",
            "765            5      121             72             23      112  26.2   \n",
            "766            1      126             60              0        0  30.1   \n",
            "767            1       93             70             31        0  30.4   \n",
            "\n",
            "     DiabetesPedigreeFunction  Age  \n",
            "0                       0.627   50  \n",
            "1                       0.351   31  \n",
            "2                       0.672   32  \n",
            "3                       0.167   21  \n",
            "4                       2.288   33  \n",
            "..                        ...  ...  \n",
            "763                     0.171   63  \n",
            "764                     0.340   27  \n",
            "765                     0.245   30  \n",
            "766                     0.349   47  \n",
            "767                     0.315   23  \n",
            "\n",
            "[768 rows x 8 columns]\n",
            "0      1\n",
            "1      0\n",
            "2      1\n",
            "3      0\n",
            "4      1\n",
            "      ..\n",
            "763    0\n",
            "764    0\n",
            "765    0\n",
            "766    1\n",
            "767    0\n",
            "Name: Outcome, Length: 768, dtype: int64\n"
          ]
        }
      ]
    },
    {
      "cell_type": "markdown",
      "source": [
        "Data Standardization"
      ],
      "metadata": {
        "id": "uWqTkLbWM8sJ"
      }
    },
    {
      "cell_type": "code",
      "source": [
        "scaler = StandardScaler()"
      ],
      "metadata": {
        "id": "CfD_qOqjNHt0"
      },
      "execution_count": 10,
      "outputs": []
    },
    {
      "cell_type": "code",
      "source": [
        "scaler.fit(X) "
      ],
      "metadata": {
        "colab": {
          "base_uri": "https://localhost:8080/"
        },
        "id": "HOmkDDwlM06I",
        "outputId": "2a6ddc68-9643-4ebc-83e8-10f9aaebd33f"
      },
      "execution_count": 12,
      "outputs": [
        {
          "output_type": "execute_result",
          "data": {
            "text/plain": [
              "StandardScaler()"
            ]
          },
          "metadata": {},
          "execution_count": 12
        }
      ]
    },
    {
      "cell_type": "code",
      "source": [
        "standardized_data = scaler.transform(X) "
      ],
      "metadata": {
        "id": "XKeegGSoNNY9"
      },
      "execution_count": 13,
      "outputs": []
    },
    {
      "cell_type": "code",
      "source": [
        "print(standardized_data)"
      ],
      "metadata": {
        "colab": {
          "base_uri": "https://localhost:8080/"
        },
        "id": "nvKp9p0YNbK9",
        "outputId": "cfc12961-d1eb-4f49-cac1-3ecec9cb5121"
      },
      "execution_count": 15,
      "outputs": [
        {
          "output_type": "stream",
          "name": "stdout",
          "text": [
            "[[ 0.63994726  0.84832379  0.14964075 ...  0.20401277  0.46849198\n",
            "   1.4259954 ]\n",
            " [-0.84488505 -1.12339636 -0.16054575 ... -0.68442195 -0.36506078\n",
            "  -0.19067191]\n",
            " [ 1.23388019  1.94372388 -0.26394125 ... -1.10325546  0.60439732\n",
            "  -0.10558415]\n",
            " ...\n",
            " [ 0.3429808   0.00330087  0.14964075 ... -0.73518964 -0.68519336\n",
            "  -0.27575966]\n",
            " [-0.84488505  0.1597866  -0.47073225 ... -0.24020459 -0.37110101\n",
            "   1.17073215]\n",
            " [-0.84488505 -0.8730192   0.04624525 ... -0.20212881 -0.47378505\n",
            "  -0.87137393]]\n"
          ]
        }
      ]
    },
    {
      "cell_type": "code",
      "source": [
        "X = standardized_data\n",
        "Y = diabetes_dataset['Outcome']"
      ],
      "metadata": {
        "id": "j-f7capBNccr"
      },
      "execution_count": 16,
      "outputs": []
    },
    {
      "cell_type": "code",
      "source": [
        "print(X)\n",
        "print(Y)"
      ],
      "metadata": {
        "colab": {
          "base_uri": "https://localhost:8080/"
        },
        "id": "0la7KsMRNsAc",
        "outputId": "3d9b1772-b6ce-4b93-a36e-ac1fdceef454"
      },
      "execution_count": 17,
      "outputs": [
        {
          "output_type": "stream",
          "name": "stdout",
          "text": [
            "[[ 0.63994726  0.84832379  0.14964075 ...  0.20401277  0.46849198\n",
            "   1.4259954 ]\n",
            " [-0.84488505 -1.12339636 -0.16054575 ... -0.68442195 -0.36506078\n",
            "  -0.19067191]\n",
            " [ 1.23388019  1.94372388 -0.26394125 ... -1.10325546  0.60439732\n",
            "  -0.10558415]\n",
            " ...\n",
            " [ 0.3429808   0.00330087  0.14964075 ... -0.73518964 -0.68519336\n",
            "  -0.27575966]\n",
            " [-0.84488505  0.1597866  -0.47073225 ... -0.24020459 -0.37110101\n",
            "   1.17073215]\n",
            " [-0.84488505 -0.8730192   0.04624525 ... -0.20212881 -0.47378505\n",
            "  -0.87137393]]\n",
            "0      1\n",
            "1      0\n",
            "2      1\n",
            "3      0\n",
            "4      1\n",
            "      ..\n",
            "763    0\n",
            "764    0\n",
            "765    0\n",
            "766    1\n",
            "767    0\n",
            "Name: Outcome, Length: 768, dtype: int64\n"
          ]
        }
      ]
    },
    {
      "cell_type": "markdown",
      "source": [
        "Train Test Split"
      ],
      "metadata": {
        "id": "NjodC62mNzeT"
      }
    },
    {
      "cell_type": "code",
      "source": [
        "X_train, X_test, Y_train, Y_test = train_test_split(X, Y, test_size = 0.2, stratify = Y, random_state =2)"
      ],
      "metadata": {
        "id": "k34nPEcqNynz"
      },
      "execution_count": 18,
      "outputs": []
    },
    {
      "cell_type": "code",
      "source": [
        "print(X.shape, X_train.shape, X_test.shape)"
      ],
      "metadata": {
        "colab": {
          "base_uri": "https://localhost:8080/"
        },
        "id": "es64UBENOK0L",
        "outputId": "a8dea86b-a060-4d34-a021-f804c3381707"
      },
      "execution_count": 19,
      "outputs": [
        {
          "output_type": "stream",
          "name": "stdout",
          "text": [
            "(768, 8) (614, 8) (154, 8)\n"
          ]
        }
      ]
    },
    {
      "cell_type": "markdown",
      "source": [
        "Training the model"
      ],
      "metadata": {
        "id": "Mr87pa_wPE8I"
      }
    },
    {
      "cell_type": "code",
      "source": [
        "classifier = svm.SVC(kernel='linear')\n",
        "# svc = support vector classifier"
      ],
      "metadata": {
        "id": "58y1tPuoPC8A"
      },
      "execution_count": 21,
      "outputs": []
    },
    {
      "cell_type": "code",
      "source": [
        "# training the support vector machine classifier\n",
        "classifier.fit(X_train, Y_train)"
      ],
      "metadata": {
        "colab": {
          "base_uri": "https://localhost:8080/"
        },
        "id": "t3h0wt4NPUt8",
        "outputId": "c5e15532-b176-4afa-8a67-fbb33c2a5b89"
      },
      "execution_count": 22,
      "outputs": [
        {
          "output_type": "execute_result",
          "data": {
            "text/plain": [
              "SVC(kernel='linear')"
            ]
          },
          "metadata": {},
          "execution_count": 22
        }
      ]
    },
    {
      "cell_type": "markdown",
      "source": [
        "Model Evaluation\n",
        "\n",
        "Accuracy Score"
      ],
      "metadata": {
        "id": "EvmSgkauQIBV"
      }
    },
    {
      "cell_type": "code",
      "source": [
        "# accuracy score\n",
        "X_train_prediction = classifier.predict(X_train)\n",
        "training_data_accuracy = accuracy_score(X_train_prediction, Y_train)\n"
      ],
      "metadata": {
        "id": "cU918Hw7PlBg"
      },
      "execution_count": 23,
      "outputs": []
    },
    {
      "cell_type": "code",
      "source": [
        "print(\"Accuracy score of the training data: \", training_data_accuracy)"
      ],
      "metadata": {
        "colab": {
          "base_uri": "https://localhost:8080/"
        },
        "id": "qItbrUBgQlRO",
        "outputId": "2df477f4-5774-422c-c079-b08ae2ac52fa"
      },
      "execution_count": 24,
      "outputs": [
        {
          "output_type": "stream",
          "name": "stdout",
          "text": [
            "Accuracy score of the training data:  0.7866449511400652\n"
          ]
        }
      ]
    },
    {
      "cell_type": "code",
      "source": [
        "# accuracy score\n",
        "X_test_prediction = classifier.predict(X_test)\n",
        "test_data_accuracy = accuracy_score(X_test_prediction, Y_test)"
      ],
      "metadata": {
        "id": "JadYHeTtQurO"
      },
      "execution_count": 25,
      "outputs": []
    },
    {
      "cell_type": "code",
      "source": [
        "print(\"Accuracy score of the test data: \", test_data_accuracy)"
      ],
      "metadata": {
        "colab": {
          "base_uri": "https://localhost:8080/"
        },
        "id": "iSdexi-GQ3KH",
        "outputId": "4065f665-0e07-4a6f-a950-09125946b37d"
      },
      "execution_count": 26,
      "outputs": [
        {
          "output_type": "stream",
          "name": "stdout",
          "text": [
            "Accuracy score of the test data:  0.7727272727272727\n"
          ]
        }
      ]
    },
    {
      "cell_type": "markdown",
      "source": [
        "Making a Predictive System"
      ],
      "metadata": {
        "id": "aDi0C9poRLiq"
      }
    },
    {
      "cell_type": "code",
      "source": [
        "input_data = (4,110,92,0,0,37.6,0.191,30)\n",
        "\n",
        "# changing the input_data to numpy array\n",
        "input_data_as_numpy_array = np.asarray(input_data)\n",
        "\n",
        "# reshape the array as we are predicting for one instance\n",
        "input_data_reshaped = input_data_as_numpy_array.reshape(1, -1)\n",
        "\n",
        "# standardize the input data\n",
        "std_data = scaler.transform(input_data_reshaped)\n",
        "print(std_data)\n",
        "\n",
        "prediction = classifier.predict(std_data)\n",
        "print(prediction)\n",
        "\n",
        "if(prediction[0]==0):\n",
        "  print(\"The person is not diabetic\")\n",
        "\n",
        "else:\n",
        "  print(\"The person is diabetic\")"
      ],
      "metadata": {
        "colab": {
          "base_uri": "https://localhost:8080/"
        },
        "id": "9imGvNCRQ7qQ",
        "outputId": "c7a744d3-2486-4c22-df9b-66a3b9069ae9"
      },
      "execution_count": 29,
      "outputs": [
        {
          "output_type": "stream",
          "name": "stdout",
          "text": [
            "[[ 0.04601433 -0.34096773  1.18359575 -1.28821221 -0.69289057  0.71168975\n",
            "  -0.84827977 -0.27575966]]\n",
            "[0]\n",
            "The person is not diabetic\n"
          ]
        },
        {
          "output_type": "stream",
          "name": "stderr",
          "text": [
            "/usr/local/lib/python3.8/dist-packages/sklearn/base.py:450: UserWarning: X does not have valid feature names, but StandardScaler was fitted with feature names\n",
            "  warnings.warn(\n"
          ]
        }
      ]
    },
    {
      "cell_type": "code",
      "source": [],
      "metadata": {
        "id": "iqlcR6_KTD-I"
      },
      "execution_count": null,
      "outputs": []
    }
  ]
}